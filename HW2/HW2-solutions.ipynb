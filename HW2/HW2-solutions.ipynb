{
  "nbformat": 4,
  "nbformat_minor": 0,
  "metadata": {
    "kernelspec": {
      "display_name": "Python 3",
      "language": "python",
      "name": "python3"
    },
    "language_info": {
      "codemirror_mode": {
        "name": "ipython",
        "version": 3
      },
      "file_extension": ".py",
      "mimetype": "text/x-python",
      "name": "python",
      "nbconvert_exporter": "python",
      "pygments_lexer": "ipython3",
      "version": "3.8.3"
    },
    "colab": {
      "name": "hw2.ipynb",
      "provenance": [],
      "collapsed_sections": []
    }
  },
  "cells": [
    {
      "cell_type": "markdown",
      "metadata": {
        "id": "-Ddvr3pHG4yc"
      },
      "source": [
        "# Assignment 2: Applications of modular arithmetics"
      ]
    },
    {
      "cell_type": "markdown",
      "metadata": {
        "id": "bkP87FaMG4yd"
      },
      "source": [
        "## Question 1: Cryptography\n",
        "\n",
        "In this question you will implement two simple cryptographic algorithms - Caesar's and Vigenère ciphers.\n",
        "\n",
        "1. Implement Caesar's cipher: https://en.wikipedia.org/wiki/Caesar_cipher, both the encoder and the decoder. Your encoder should use a right shift of 11. Your implementation should deal with both uppercase and lowercase characters. For example - `A` should be encoded as `L`, and `a` should be encoded as `l`. Non-alphabetic characters should stay as they are.\n",
        "2. Demonstrate the cipher by encoding and then decoding the [Zen of Python](#scrollTo=c7HI28zkPqXb&line=1&uniqifier=1) using Caesar cipher:\n",
        "  * Encode the Zen of Python and print the result.\n",
        "  * Decode the result of encoding and print the decoded string.\n",
        "  * Compare the original and recovered texts - they should be the same.\n",
        "3. For what _n_, where _n_ is the shift size, both the encoder and the decoder would output the same resulting string for every given input string? In other words, find an _n_ such that for each _x_ we would get: (_x_ + _n_) mod 26 = (_x_ - _n_) mod 26.\n",
        "4. Implement the Vigenère cipher: https://en.wikipedia.org/wiki/Vigenère_cipher, both the encoder and the decoder. Use the keyword `XYZZY`. As before, your implementation should preserve capitalization and keep non-alphabetic characters as they are. For example - the string `Hey, you!` should be encoded using the pairs `(H, X), (e, y), (y, z), (y, z), (o, y), (u, x)`, resulting with the cipher `Ecx, xmr!`.\n",
        "5. Demonstrate the Vigenère cipher by encoding and then decoding the Zen of Python, as before."
      ]
    },
    {
      "cell_type": "code",
      "source": [
        "import this  # This line actually prints out the Zen of Python. Curious? See: https://github.com/python/cpython/blob/main/Lib/this.py\n",
        "\n",
        "# For convenience, use the following constant.\n",
        "ZEN = '''The Zen of Python, by Tim Peters\n",
        "\n",
        "Beautiful is better than ugly.\n",
        "Explicit is better than implicit.\n",
        "Simple is better than complex.\n",
        "Complex is better than complicated.\n",
        "Flat is better than nested.\n",
        "Sparse is better than dense.\n",
        "Readability counts.\n",
        "Special cases aren't special enough to break the rules.\n",
        "Although practicality beats purity.\n",
        "Errors should never pass silently.\n",
        "Unless explicitly silenced.\n",
        "In the face of ambiguity, refuse the temptation to guess.\n",
        "There should be one-- and preferably only one --obvious way to do it.\n",
        "Although that way may not be obvious at first unless you're Dutch.\n",
        "Now is better than never.\n",
        "Although never is often better than *right* now.\n",
        "If the implementation is hard to explain, it's a bad idea.\n",
        "If the implementation is easy to explain, it may be a good idea.\n",
        "Namespaces are one honking great idea -- let's do more of those!\n",
        "'''"
      ],
      "metadata": {
        "id": "c7HI28zkPqXb",
        "colab": {
          "base_uri": "https://localhost:8080/"
        },
        "outputId": "da2c84bc-2453-46f7-c61e-f0615452799a"
      },
      "execution_count": 2,
      "outputs": [
        {
          "output_type": "stream",
          "name": "stdout",
          "text": [
            "The Zen of Python, by Tim Peters\n",
            "\n",
            "Beautiful is better than ugly.\n",
            "Explicit is better than implicit.\n",
            "Simple is better than complex.\n",
            "Complex is better than complicated.\n",
            "Flat is better than nested.\n",
            "Sparse is better than dense.\n",
            "Readability counts.\n",
            "Special cases aren't special enough to break the rules.\n",
            "Although practicality beats purity.\n",
            "Errors should never pass silently.\n",
            "Unless explicitly silenced.\n",
            "In the face of ambiguity, refuse the temptation to guess.\n",
            "There should be one-- and preferably only one --obvious way to do it.\n",
            "Although that way may not be obvious at first unless you're Dutch.\n",
            "Now is better than never.\n",
            "Although never is often better than *right* now.\n",
            "If the implementation is hard to explain, it's a bad idea.\n",
            "If the implementation is easy to explain, it may be a good idea.\n",
            "Namespaces are one honking great idea -- let's do more of those!\n"
          ]
        }
      ]
    },
    {
      "cell_type": "code",
      "metadata": {
        "id": "Yd2ECbt3G4yd"
      },
      "source": [
        "def CaesarIsCipherEncoder(S):\n",
        "  s = \"\"\n",
        "  for C in S:\n",
        "    c = ord(C)\n",
        "    if (65 <= c <= 90) | (97 <= c <= 122):\n",
        "      s += chr(c+11)\n",
        "    else: \n",
        "      s += chr(c)\n",
        "  return s\n",
        "\n",
        "def CaesarIsCipherDecoder(S):\n",
        "  s = \"\"\n",
        "  for C in S:\n",
        "    c = ord(C)\n",
        "    if (65 <= c-11 <= 90) | (97 <= c-11 <= 122):\n",
        "      s += chr(c-11)\n",
        "    else: \n",
        "      s += chr(c)\n",
        "  return s"
      ],
      "execution_count": 3,
      "outputs": []
    },
    {
      "cell_type": "code",
      "source": [
        "S = CaesarIsCipherEncoder(ZEN)\n",
        "print(S)\n",
        "T = CaesarIsCipherDecoder(S)\n",
        "print(T)\n",
        "print(ZEN == T)"
      ],
      "metadata": {
        "id": "HS01pNyxD_1I",
        "colab": {
          "base_uri": "https://localhost:8080/"
        },
        "outputId": "4ba3657c-f4ad-4f85-94c1-bbb52c74f0ed"
      },
      "execution_count": 4,
      "outputs": [
        {
          "output_type": "stream",
          "name": "stdout",
          "text": [
            "_sp epy zq [szy, m _tx [pp}~\n",
            "\n",
            "Mpltqw t~ mpp} sly rw.\n",
            "P{wtnt t~ mpp} sly tx{wtnt.\n",
            "^tx{wp t~ mpp} sly nzx{wp.\n",
            "Nzx{wp t~ mpp} sly nzx{wtnlpo.\n",
            "Qwl t~ mpp} sly yp~po.\n",
            "^{l}~p t~ mpp} sly opy~p.\n",
            "]plolmtwt nzy~.\n",
            "^{pntlw nl~p~ l}py' ~{pntlw pyzrs z m}plv sp }wp~.\n",
            "Lwszrs {}lntnlwt mpl~ {}t.\n",
            "P}}z}~ ~szwo ypp} {l~~ ~twpyw.\n",
            "`ywp~~ p{wtntw ~twpynpo.\n",
            "Ty sp qlnp zq lxmtrt, }pq~p sp px{ltzy z rp~~.\n",
            "_sp}p ~szwo mp zyp-- lyo {}pqp}lmw zyw zyp --zmtz~ l z oz t.\n",
            "Lwszrs sl l xl yz mp zmtz~ l qt}~ ywp~~ z'}p Ons.\n",
            "Yz t~ mpp} sly ypp}.\n",
            "Lwszrs ypp} t~ zqpy mpp} sly *}trs* yz.\n",
            "Tq sp tx{wpxpyltzy t~ sl}o z p{wlty, t'~ l mlo topl.\n",
            "Tq sp tx{wpxpyltzy t~ pl~ z p{wlty, t xl mp l rzzo topl.\n",
            "Ylxp~{lnp~ l}p zyp szyvtyr r}pl topl -- wp'~ oz xz}p zq sz~p!\n",
            "\n",
            "The Zen of Python, by Tim Peters\n",
            "\n",
            "Beautiful is better than ugly.\n",
            "Explicit is better than implicit.\n",
            "Simple is better than complex.\n",
            "Complex is better than complicated.\n",
            "Flat is better than nested.\n",
            "Sparse is better than dense.\n",
            "Readability counts.\n",
            "Special cases aren't special enough to break the rules.\n",
            "Although practicality beats purity.\n",
            "Errors should never pass silently.\n",
            "Unless explicitly silenced.\n",
            "In the face of ambiguity, refuse the temptation to guess.\n",
            "There should be one-- and preferably only one --obvious way to do it.\n",
            "Although that way may not be obvious at first unless you're Dutch.\n",
            "Now is better than never.\n",
            "Although never is often better than *right* now.\n",
            "If the implementation is hard to explain, it's a bad idea.\n",
            "If the implementation is easy to explain, it may be a good idea.\n",
            "Namespaces are one honking great idea -- let's do more of those!\n",
            "\n",
            "True\n"
          ]
        }
      ]
    },
    {
      "cell_type": "code",
      "source": [
        "print(\"For any n that holds n % 26 = 0\")"
      ],
      "metadata": {
        "id": "Rq8K7PVxEAWw",
        "colab": {
          "base_uri": "https://localhost:8080/"
        },
        "outputId": "40583601-e28d-4f37-d789-f3a91828d9c1"
      },
      "execution_count": 5,
      "outputs": [
        {
          "output_type": "stream",
          "name": "stdout",
          "text": [
            "For any n that holds n % 26 = 0\n"
          ]
        }
      ]
    },
    {
      "cell_type": "code",
      "source": [
        "def VigenereCipherEncoder(S):\n",
        "  keyword = \"XYZZY\"\n",
        "  index = 0\n",
        "  string = \"\"\n",
        "  for C in S:\n",
        "    c = ord(C)\n",
        "    K = ord(keyword[index % 5]) \n",
        "    if (65 <= c <= 90):  \n",
        "      index += 1\n",
        "      c = (K - 65 + c - 65) % 26\n",
        "      string += chr(c+65)  \n",
        "    elif (97 <= c <= 122):\n",
        "      index += 1\n",
        "      c = (K - 65 + c - 97) % 26     \n",
        "      string += chr(c+97)\n",
        "    else:\n",
        "      string += chr(c)\n",
        "  return string\n",
        "\n",
        "def VigenereCipherDecoder(S):\n",
        "  keyword = \"XYZZY\"\n",
        "  index = 0\n",
        "  string = \"\"\n",
        "  for C in S:\n",
        "    c = ord(C)\n",
        "    K = ord(keyword[index % 5]) \n",
        "    if (65 <= c <= 90):  \n",
        "      index += 1\n",
        "      c = (c - 65 - K - 65) % 26\n",
        "      string += chr(c+65)  \n",
        "    elif (97 <= c <= 122):\n",
        "      index += 1\n",
        "      c = (c - 97 - K - 65) % 26     \n",
        "      string += chr(c+97)\n",
        "    else:\n",
        "      string += chr(c)\n",
        "  return string"
      ],
      "metadata": {
        "id": "r3LynAYlEArC"
      },
      "execution_count": 6,
      "outputs": []
    },
    {
      "cell_type": "code",
      "source": [
        "S = VigenereCipherEncoder(ZEN)\n",
        "print(S)\n",
        "T = VigenereCipherDecoder(S)\n",
        "print(T)\n",
        "print(ZEN == T)"
      ],
      "metadata": {
        "id": "xEsyt7IqEA62",
        "colab": {
          "base_uri": "https://localhost:8080/"
        },
        "outputId": "dff914d8-ea02-4002-c341-508fc077d1b6"
      },
      "execution_count": 7,
      "outputs": [
        {
          "output_type": "stream",
          "name": "stdout",
          "text": [
            "Qfd Yck me Owqfnm, zv Rhl Nbrdqq\n",
            "\n",
            "Ycztrfdtk gp zdsrbp sgyk sfkw.\n",
            "Bvokgzgs hq ycssco rgzl fkokgzgs.\n",
            "Rgjnkd gp zdsrbp sgyk anlnicw.\n",
            "Bmjnkdv fq adrqcq sfxl bnkmjhbyqcc.\n",
            "Ejxr hr zbrsdp qfzm lbqsdb.\n",
            "Pnzqqb gr acqrdq reym cckqd.\n",
            "Qcxbzagigsx alsmsq.\n",
            "Pndbgxj bzqbq zqck'r roczgzk ckmtff qm aqcxi sgc oskdq.\n",
            "Xjsgmreg opxashaxjhsw yczsq msqhrv.\n",
            "Cqqmoq rgmrjc mcscq oypq rhjblskw.\n",
            "Rlkdqp cwojfahsjv qhkckadc.\n",
            "Gk rgd dxad nd xkahergsx, pbdtrc qfd scjnszrfmm sm dsdrq.\n",
            "Qfdqc pfntja zd nlb-- ymc nocedpxzkx mkjx nlb --mauglsr vyv rn cm fr.\n",
            "Zkremtff qfzs uxw lzw kms ac lzuhmrq zs dfprs skjdrq vmt'qc Assbf.\n",
            "Kmv hq ycssco rgzl kcudp.\n",
            "Xjsgmreg mcscq hq ldsdl ycssco rgzl *ogfgr* kmv.\n",
            "Hd qfd hkmjdlckrzsgll hr fxpc sm bvokyfl, hs'q x zzc gacz.\n",
            "Hd qfd hkmjdlckrzsgll hr cxqx sm bvokyfl, hs kxw ad y dmnc gacz.\n",
            "Myjcroyzcr zpb mmd flljhld eqdyq gcdy -- ics'r bl knqc ld sgmpc!\n",
            "\n",
            "The Zen of Python, by Tim Peters\n",
            "\n",
            "Beautiful is better than ugly.\n",
            "Explicit is better than implicit.\n",
            "Simple is better than complex.\n",
            "Complex is better than complicated.\n",
            "Flat is better than nested.\n",
            "Sparse is better than dense.\n",
            "Readability counts.\n",
            "Special cases aren't special enough to break the rules.\n",
            "Although practicality beats purity.\n",
            "Errors should never pass silently.\n",
            "Unless explicitly silenced.\n",
            "In the face of ambiguity, refuse the temptation to guess.\n",
            "There should be one-- and preferably only one --obvious way to do it.\n",
            "Although that way may not be obvious at first unless you're Dutch.\n",
            "Now is better than never.\n",
            "Although never is often better than *right* now.\n",
            "If the implementation is hard to explain, it's a bad idea.\n",
            "If the implementation is easy to explain, it may be a good idea.\n",
            "Namespaces are one honking great idea -- let's do more of those!\n",
            "\n",
            "True\n"
          ]
        }
      ]
    },
    {
      "cell_type": "markdown",
      "metadata": {
        "id": "6VWZ6SVnG4yd"
      },
      "source": [
        "## Question 2: Hash tables and hash functions\n",
        "\n",
        "The code cell below contains a list of Israeli localities and a list of lists of ZIP codes, each containing one or more ZIP codes that belong to the locality placed at the same index in the list of localities (e.g., the list of ZIP codes at `zipcodes[4]` contains ZIP codes that belong to the locality at `localities[4]`).\n",
        "\n",
        "In the first two tasks you will create two hash tables that map each ZIP code to its corresponding locality. For example,\n",
        "```python\n",
        "locality = zipcodes_to_localities['77771']  # Using Python's dictionary\n",
        "print(locality)\n",
        "\n",
        "locality = tget(t, '24990')  # Using our implementation of dictionary\n",
        "print(locality)\n",
        "```\n",
        "should print\n",
        "```\n",
        "Ashdod\n",
        "Beit Jann\n",
        "```\n",
        "The rest of the tasks deal with hash functions.\n",
        "\n",
        "1. Create the hash table using Python's dictionary. Print it using the function `pprint`.\n",
        "2. Create the hash table using our implementation (see [lecture notes](https://colab.research.google.com/drive/1Byc11ZKz-Bd4BxWOh9YnkEJGPnUeAK1C#scrollTo=en9mqoSXxK8q)) of dictionary using the built-in hash function. Print it using the function `pprint`.\n",
        "3. Implement a hash function for ZIP codes, that maps each ZIP code (as a string) to the number: (_m_ + 1) * (_k_ + 1), where _m_ is the maximal digit of the ZIP code, and _k_ is the index of its first occurrence. For example, `'10727'` (_m_ = 7, _k_ = 2) and `'21053'` (_m_ = 5, _k_ = 3) should both be mapped to the number 24.\n",
        "4. May the hash function you implemented in task 3 be used as a reliable checksum function? Explain your answer with an example.\n",
        "5. MD5 is a widely used hash function, primarily used as a checksum. The function `md5(s)` in the code cell below takes a string and returns its MD5 digest represented as a string of 32 [hexadecimal](https://en.wikipedia.org/wiki/Hexadecimal) digits. You are required to write a program that finds and prints the string of 3 lowercase English alphabet characters whose MD5 digest is `0b08bd98d279b88859b628cd8c061ae0`."
      ]
    },
    {
      "cell_type": "code",
      "metadata": {
        "id": "2Op-c-GxG4yd"
      },
      "source": [
        "from pprint import pprint\n",
        "\n",
        "localities = \\\n",
        "[\n",
        " 'Qiryat Shemona',\n",
        " 'Beit Jann',\n",
        " 'Harish',\n",
        " 'Tira',\n",
        " 'Bene Beraq',\n",
        " 'Ashdod',\n",
        " 'Sederot',\n",
        " 'Beersheba',\n",
        " 'Kseife',\n",
        " 'Tzofar'\n",
        "]\n",
        "\n",
        "zipcodes = \\\n",
        "[\n",
        " ['11032', '11561'],\n",
        " ['24990'],\n",
        " ['37611'],\n",
        " ['44915'],\n",
        " ['51461', '51529', '51562'],\n",
        " ['77756', '77771'],\n",
        " ['87112'],\n",
        " ['84138', '84277', '84540', '84885'],\n",
        " ['84923'],\n",
        " ['86830']\n",
        "]\n",
        "\n",
        "import hashlib\n",
        "\n",
        "def md5(s):\n",
        "  return hashlib.md5(s.encode('utf-8')).hexdigest()"
      ],
      "execution_count": null,
      "outputs": []
    },
    {
      "cell_type": "code",
      "source": [
        "hashTable = {}\n",
        "index = 0\n",
        "for l in localities:\n",
        "  hashTable[l] = zipcodes[index]\n",
        "  index += 1\n",
        "pprint(hashTable)"
      ],
      "metadata": {
        "id": "Cr8w8pvF1q_W",
        "colab": {
          "base_uri": "https://localhost:8080/"
        },
        "outputId": "bc15742c-a95a-4b40-ca0c-153fb31431e5"
      },
      "execution_count": null,
      "outputs": [
        {
          "output_type": "stream",
          "name": "stdout",
          "text": [
            "{'Ashdod': ['77756', '77771'],\n",
            " 'Beersheba': ['84138', '84277', '84540', '84885'],\n",
            " 'Beit Jann': ['24990'],\n",
            " 'Bene Beraq': ['51461', '51529', '51562'],\n",
            " 'Harish': ['37611'],\n",
            " 'Kseife': ['84923'],\n",
            " 'Qiryat Shemona': ['11032', '11561'],\n",
            " 'Sederot': ['87112'],\n",
            " 'Tira': ['44915'],\n",
            " 'Tzofar': ['86830']}\n"
          ]
        }
      ]
    },
    {
      "cell_type": "code",
      "source": [
        "def make(n):\n",
        "    return [list() for _ in range(n)]\n",
        "\n",
        "def tset(table, key, value, h=hash):\n",
        "    i = h(key) % len(table)\n",
        "    entry = table[i]\n",
        "    for i, (k, v) in enumerate(entry):\n",
        "        if key==k:\n",
        "            entry[i] = (key, value)\n",
        "            return\n",
        "    entry.append((key, value))\n",
        "        \n",
        "def tget(table, key, h=hash):\n",
        "    i = h(key) % len(table)\n",
        "    entry = table[i]\n",
        "    for i, (k, v) in enumerate(entry):\n",
        "        if key==k:\n",
        "            return v\n",
        "    return None\n",
        "\n",
        "length = len(localities)\n",
        "t = make(length)\n",
        "for i in range(length):\n",
        "  tset(t, localities[i], zipcodes[i])  \n",
        "pprint(t)"
      ],
      "metadata": {
        "id": "4V6pSUsxEXwl",
        "colab": {
          "base_uri": "https://localhost:8080/"
        },
        "outputId": "f0f147a9-2d54-41c9-c06d-c78ec0ee5e9e"
      },
      "execution_count": null,
      "outputs": [
        {
          "output_type": "stream",
          "name": "stdout",
          "text": [
            "[[('Kseife', ['84923'])],\n",
            " [('Bene Beraq', ['51461', '51529', '51562']),\n",
            "  ('Beersheba', ['84138', '84277', '84540', '84885'])],\n",
            " [('Ashdod', ['77756', '77771'])],\n",
            " [('Tira', ['44915']), ('Sederot', ['87112'])],\n",
            " [],\n",
            " [('Qiryat Shemona', ['11032', '11561'])],\n",
            " [('Tzofar', ['86830'])],\n",
            " [('Beit Jann', ['24990'])],\n",
            " [('Harish', ['37611'])],\n",
            " []]\n"
          ]
        }
      ]
    },
    {
      "cell_type": "code",
      "source": [
        "def hashFunction(key):\n",
        "  k = 0\n",
        "  m = key[k]\n",
        "  for i in range(len(key)):\n",
        "    if key[i] > m:\n",
        "      m = key[i]\n",
        "      k = i\n",
        "  return (int(m)+1)*(k+1)"
      ],
      "metadata": {
        "id": "xV3vrG1pEYIo"
      },
      "execution_count": null,
      "outputs": []
    },
    {
      "cell_type": "code",
      "source": [
        "print(\"No, because the function we implemented in task 3 is based on only one digit so other digits can be changed and the output is the same \\nFor example, for functions hashFunction('10727') and hashFunction('10726') we get the value 24, but 10727 != 10726\")\n",
        "print(hashFunction('10727'),hashFunction('10726'))"
      ],
      "metadata": {
        "id": "8LPoAlTdEYf7",
        "colab": {
          "base_uri": "https://localhost:8080/"
        },
        "outputId": "9a11cc9d-9b73-4f23-efd8-ee26df47571e"
      },
      "execution_count": null,
      "outputs": [
        {
          "output_type": "stream",
          "name": "stdout",
          "text": [
            "No, because the function we implemented in task 3 is based on only one digit so other digits can be changed and the output is the same \n",
            "For example, for functions hashFunction('10727') and hashFunction('10726') we get the value 24, but 10727 != 10726\n",
            "24 24\n"
          ]
        }
      ]
    },
    {
      "cell_type": "code",
      "source": [
        "def function(v):  \n",
        "  s = 'aaa'\n",
        "  for i1 in range(26):\n",
        "    for i2 in range(26):\n",
        "      for i3 in range(26):\n",
        "        if md5(s) == v:\n",
        "          return s\n",
        "        else:\n",
        "          s = s[0] + s[1] + chr(((ord(s[2]) - 97 + 1) % 26) + 97)\n",
        "      s = s[0] + chr(((ord(s[1]) - 97 + 1) % 26) + 97) + s[2]\n",
        "    s = chr(((ord(s[0]) - 97 + 1) % 26) + 97) + s[1] + s[2]\n",
        "\n",
        "print(function('0b08bd98d279b88859b628cd8c061ae0'))\n"
      ],
      "metadata": {
        "id": "lJnONvGNEY1P",
        "colab": {
          "base_uri": "https://localhost:8080/"
        },
        "outputId": "2ecbbc39-ea2b-4687-f05f-587bfb76fac2"
      },
      "execution_count": null,
      "outputs": [
        {
          "output_type": "stream",
          "name": "stdout",
          "text": [
            "win\n"
          ]
        }
      ]
    },
    {
      "cell_type": "markdown",
      "source": [
        ""
      ],
      "metadata": {
        "id": "_xpZT0ga9BO-"
      }
    }
  ]
}