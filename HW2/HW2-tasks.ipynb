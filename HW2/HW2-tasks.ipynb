{
  "nbformat": 4,
  "nbformat_minor": 0,
  "metadata": {
    "kernelspec": {
      "display_name": "Python 3",
      "language": "python",
      "name": "python3"
    },
    "language_info": {
      "codemirror_mode": {
        "name": "ipython",
        "version": 3
      },
      "file_extension": ".py",
      "mimetype": "text/x-python",
      "name": "python",
      "nbconvert_exporter": "python",
      "pygments_lexer": "ipython3",
      "version": "3.8.3"
    },
    "colab": {
      "provenance": []
    }
  },
  "cells": [
    {
      "cell_type": "markdown",
      "metadata": {
        "id": "-Ddvr3pHG4yc"
      },
      "source": [
        "# Assignment 2: Applications of modular arithmetics"
      ]
    },
    {
      "cell_type": "markdown",
      "metadata": {
        "id": "bkP87FaMG4yd"
      },
      "source": [
        "## Question 1: Cryptography\n",
        "\n",
        "In this question you will implement two simple cryptographic algorithms - Caesar's and Vigenère ciphers.\n",
        "\n",
        "1. Implement Caesar's cipher: https://en.wikipedia.org/wiki/Caesar_cipher, both the encoder and the decoder. Your encoder should use a right shift of 11. Your implementation should deal with both uppercase and lowercase characters. For example - `A` should be encoded as `L`, and `a` should be encoded as `l`. Non-alphabetic characters should stay as they are.\n",
        "2. Demonstrate the cipher by encoding and then decoding the [Zen of Python](#scrollTo=c7HI28zkPqXb&line=1&uniqifier=1) using Caesar cipher:\n",
        "  * Encode the Zen of Python and print the result.\n",
        "  * Decode the result of encoding and print the decoded string.\n",
        "  * Compare the original and recovered texts - they should be the same.\n",
        "3. For what _n_, where _n_ is the shift size, both the encoder and the decoder would output the same resulting string for every given input string? In other words, find an _n_ such that for each _x_ we would get: (_x_ + _n_) mod 26 = (_x_ - _n_) mod 26.\n",
        "4. Implement the Vigenère cipher: https://en.wikipedia.org/wiki/Vigenère_cipher, both the encoder and the decoder. Use the keyword `XYZZY`. As before, your implementation should preserve capitalization and keep non-alphabetic characters as they are. For example - the string `Hey, you!` should be encoded using the pairs `(H, X), (e, y), (y, z), (y, z), (o, y), (u, x)`, resulting with the cipher `Ecx, xmr!`.\n",
        "5. Demonstrate the Vigenère cipher by encoding and then decoding the Zen of Python, as before."
      ]
    },
    {
      "cell_type": "code",
      "source": [
        "import this  # This line actually prints out the Zen of Python. Curious? See: https://github.com/python/cpython/blob/main/Lib/this.py\n",
        "\n",
        "# For convenience, use the following constant.\n",
        "ZEN = '''The Zen of Python, by Tim Peters\n",
        "\n",
        "Beautiful is better than ugly.\n",
        "Explicit is better than implicit.\n",
        "Simple is better than complex.\n",
        "Complex is better than complicated.\n",
        "Flat is better than nested.\n",
        "Sparse is better than dense.\n",
        "Readability counts.\n",
        "Special cases aren't special enough to break the rules.\n",
        "Although practicality beats purity.\n",
        "Errors should never pass silently.\n",
        "Unless explicitly silenced.\n",
        "In the face of ambiguity, refuse the temptation to guess.\n",
        "There should be one-- and preferably only one --obvious way to do it.\n",
        "Although that way may not be obvious at first unless you're Dutch.\n",
        "Now is better than never.\n",
        "Although never is often better than *right* now.\n",
        "If the implementation is hard to explain, it's a bad idea.\n",
        "If the implementation is easy to explain, it may be a good idea.\n",
        "Namespaces are one honking great idea -- let's do more of those!\n",
        "'''"
      ],
      "metadata": {
        "id": "c7HI28zkPqXb"
      },
      "execution_count": null,
      "outputs": []
    },
    {
      "cell_type": "code",
      "metadata": {
        "id": "Yd2ECbt3G4yd"
      },
      "source": [
        "# Solution 1"
      ],
      "execution_count": null,
      "outputs": []
    },
    {
      "cell_type": "code",
      "source": [
        "# Solution 2"
      ],
      "metadata": {
        "id": "HS01pNyxD_1I"
      },
      "execution_count": null,
      "outputs": []
    },
    {
      "cell_type": "code",
      "source": [
        "# Solution 3"
      ],
      "metadata": {
        "id": "Rq8K7PVxEAWw"
      },
      "execution_count": null,
      "outputs": []
    },
    {
      "cell_type": "code",
      "source": [
        "# Solution 4"
      ],
      "metadata": {
        "id": "r3LynAYlEArC"
      },
      "execution_count": null,
      "outputs": []
    },
    {
      "cell_type": "code",
      "source": [
        "# Solution 5"
      ],
      "metadata": {
        "id": "xEsyt7IqEA62"
      },
      "execution_count": null,
      "outputs": []
    },
    {
      "cell_type": "markdown",
      "metadata": {
        "id": "6VWZ6SVnG4yd"
      },
      "source": [
        "## Question 2: Hash tables and hash functions\n",
        "\n",
        "The code cell below contains a list of Israeli localities and a list of lists of ZIP codes, each containing one or more ZIP codes that belong to the locality placed at the same index in the list of localities (e.g., the list of ZIP codes at `zipcodes[4]` contains ZIP codes that belong to the locality at `localities[4]`).\n",
        "\n",
        "In the first two tasks you will create two hash tables that map each ZIP code to its corresponding locality. For example,\n",
        "```python\n",
        "locality = zipcodes_to_localities['77771']  # Using Python's dictionary\n",
        "print(locality)\n",
        "\n",
        "locality = tget(t, '24990')  # Using our implementation of dictionary\n",
        "print(locality)\n",
        "```\n",
        "should print\n",
        "```\n",
        "Ashdod\n",
        "Beit Jann\n",
        "```\n",
        "The rest of the tasks deal with hash functions.\n",
        "\n",
        "1. Create the hash table using Python's dictionary. Print it using the function `pprint`.\n",
        "2. Create the hash table using our implementation (see [lecture notes](https://colab.research.google.com/drive/1Byc11ZKz-Bd4BxWOh9YnkEJGPnUeAK1C#scrollTo=en9mqoSXxK8q)) of dictionary using the built-in hash function. Print it using the function `pprint`.\n",
        "3. Implement a hash function for ZIP codes, that maps each ZIP code (as a string) to the number: (_m_ + 1) * (_k_ + 1), where _m_ is the maximal digit of the ZIP code, and _k_ is the index of its first occurrence. For example, `'10727'` (_m_ = 7, _k_ = 2) and `'21053'` (_m_ = 5, _k_ = 3) should both be mapped to the number 24.\n",
        "4. May the hash function you implemented in task 3 be used as a reliable checksum function? Explain your answer with an example.\n",
        "5. MD5 is a widely used hash function, primarily used as a checksum. The function `md5(s)` in the code cell below takes a string and returns its MD5 digest represented as a string of 32 [hexadecimal](https://en.wikipedia.org/wiki/Hexadecimal) digits. You are required to write a program that finds and prints the string of 3 lowercase English alphabet characters whose MD5 digest is `0b08bd98d279b88859b628cd8c061ae0`."
      ]
    },
    {
      "cell_type": "code",
      "metadata": {
        "id": "2Op-c-GxG4yd"
      },
      "source": [
        "# For tasks 1 and 2\n",
        "\n",
        "from pprint import pprint\n",
        "\n",
        "localities = \\\n",
        "[\n",
        " 'Qiryat Shemona',\n",
        " 'Beit Jann',\n",
        " 'Harish',\n",
        " 'Tira',\n",
        " 'Bene Beraq',\n",
        " 'Ashdod',\n",
        " 'Sederot',\n",
        " 'Beersheba',\n",
        " 'Kseife',\n",
        " 'Tzofar'\n",
        "]\n",
        "\n",
        "zipcodes = \\\n",
        "[\n",
        " ['11032', '11561'],\n",
        " ['24990'],\n",
        " ['37611'],\n",
        " ['44915'],\n",
        " ['51461', '51529', '51562'],\n",
        " ['77756', '77771'],\n",
        " ['87112'],\n",
        " ['84138', '84277', '84540', '84885'],\n",
        " ['84923'],\n",
        " ['86830']\n",
        "]\n",
        "\n",
        "# For task 5\n",
        "\n",
        "import hashlib\n",
        "\n",
        "def md5(s):\n",
        "  return hashlib.md5(s.encode('utf-8')).hexdigest()"
      ],
      "execution_count": null,
      "outputs": []
    },
    {
      "cell_type": "code",
      "source": [
        "# Solution 1"
      ],
      "metadata": {
        "id": "Cr8w8pvF1q_W"
      },
      "execution_count": null,
      "outputs": []
    },
    {
      "cell_type": "code",
      "source": [
        "# Solution 2"
      ],
      "metadata": {
        "id": "4V6pSUsxEXwl"
      },
      "execution_count": null,
      "outputs": []
    },
    {
      "cell_type": "code",
      "source": [
        "# Solution 3"
      ],
      "metadata": {
        "id": "xV3vrG1pEYIo"
      },
      "execution_count": null,
      "outputs": []
    },
    {
      "cell_type": "code",
      "source": [
        "# Solution 4"
      ],
      "metadata": {
        "id": "8LPoAlTdEYf7"
      },
      "execution_count": null,
      "outputs": []
    },
    {
      "cell_type": "code",
      "source": [
        "# Solution 5"
      ],
      "metadata": {
        "id": "lJnONvGNEY1P"
      },
      "execution_count": null,
      "outputs": []
    }
  ]
}