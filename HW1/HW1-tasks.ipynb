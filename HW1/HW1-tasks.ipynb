{
  "cells": [
    {
      "cell_type": "markdown",
      "metadata": {
        "id": "lJDTEYk5ktz8"
      },
      "source": [
        ":# Assignment 1: Approximation of mathematical functions"
      ]
    },
    {
      "cell_type": "code",
      "execution_count": null,
      "metadata": {
        "id": "D4GcQI1Dkt0B"
      },
      "outputs": [],
      "source": [
        "import math\n",
        "import numpy\n",
        "import matplotlib.pyplot as plt\n",
        "%matplotlib inline"
      ]
    },
    {
      "cell_type": "markdown",
      "metadata": {
        "id": "C7zps0rkkt0Q"
      },
      "source": [
        "## Question 1: Approximating $\\log$\n",
        "\n",
        "Function $\\log$ is defined on positive real numbers: $\\log(x): \\mathcal{R}^+ \\rightarrow \\mathcal{R}$. The Taylor series for $\\log$ has [the following form](https://en.wikipedia.org/wiki/Logarithm):\n",
        "\n",
        "\\begin{align}\\log (x)  &= \\frac{(x-1)^1}{1} - \\frac{(x-1)^2}{2} + \\frac{(x-1)^3}{3} - \\frac{(x-1)^4}{4} + \\cdots \\\\\n",
        "&= \\sum_{n=1}^\\infty (-1)^{n+1}\\frac{(x-1)^n}{n}\n",
        "\\end{align}\n",
        "\n",
        "and converges to $\\log$ for $0 < x < 2$.\n",
        "\n",
        "1. Implement `log1` that approximates $\\log(x),\\,0 < x < 2$.\n",
        "\n"
      ]
    },
    {
      "cell_type": "code",
      "execution_count": null,
      "metadata": {
        "id": "oQ8C9i1s8RUk"
      },
      "outputs": [],
      "source": []
    },
    {
      "cell_type": "markdown",
      "metadata": {
        "id": "4I2akTMs8RUk"
      },
      "source": [
        " 2. * Plot  `math.log` and `log1` for $0.25 ≤ x ≤ 4$ for $n=1,2,4,8$.   \n",
        "    * Plot the **absolute** error of `log1` compared to `math.log` on $0.01 ≤ x ≤ 1$ for $n=1,8$. Use [plt.plot](https://matplotlib.org/3.5.1/api/_as_gen/matplotlib.pyplot.plot.html):\n",
        "\n",
        "   \n"
      ]
    },
    {
      "cell_type": "code",
      "execution_count": null,
      "metadata": {
        "id": "ZTHys47A8RUl"
      },
      "outputs": [],
      "source": []
    },
    {
      "cell_type": "markdown",
      "metadata": {
        "id": "OBibyZQy8RUl"
      },
      "source": [
        "3. Implement `log2` that approximates $\\log(x),\\,0 < x < \\infty$. _Hint:_ $\\log (e^N\\cdot x) = N + \\log x$.\n"
      ]
    },
    {
      "cell_type": "code",
      "execution_count": null,
      "metadata": {
        "id": "sZ-J7ErS8RUm"
      },
      "outputs": [],
      "source": []
    },
    {
      "cell_type": "markdown",
      "metadata": {
        "id": "Wmzde7pU8RUm"
      },
      "source": [
        " 4. * Plot  `math.log` and `log2` for $0.1 ≤ x ≤ 100$ for $n=1,2,4,8$.   \n",
        "    * Plot the **relative** error of `log2` compared to `math.log` on $0.1 ≤ x ≤ 100$ for $n=1,8$. Use [plt.plot](https://matplotlib.org/3.5.1/api/_as_gen/matplotlib.pyplot.plot.html):\n",
        "\n"
      ]
    },
    {
      "cell_type": "code",
      "execution_count": null,
      "metadata": {
        "id": "MQ2X-CTh8RUn"
      },
      "outputs": [],
      "source": []
    },
    {
      "cell_type": "markdown",
      "metadata": {
        "id": "-GgBHI1H8RUo"
      },
      "source": [
        "5. What are the maximum absolute and relative errors of `log1` compared to `log2` on interval $0.25 ≤ x ≤ 1.75$?"
      ]
    },
    {
      "cell_type": "code",
      "execution_count": null,
      "metadata": {
        "id": "6tbmlfOs8RUo"
      },
      "outputs": [],
      "source": []
    },
    {
      "cell_type": "markdown",
      "metadata": {
        "id": "xo9nKfZrkt0e"
      },
      "source": [
        "## Question 2: Using approximate versions of  $\\log$ and $\\exp$\n",
        "\n",
        "1. Use `logfact`  from [lecture 1 notebook](https://colab.research.google.com/drive/1PS2XZEKAhsV7Wq97Szk1RH93HWuhTyYF) with `math.log` and `math.exp`, to implement the [multinomial coefficients](https://en.wikipedia.org/wiki/Multinomial_theorem#Multinomial_coefficients) for $m=3$ on the log scale:\n",
        "\n",
        "$$\\binom{n}{k_1,k_2,...,k_m} = \\frac{n!}{k_1! k_2! \\cdot\\cdot\\cdot k_m!}$$\n"
      ]
    },
    {
      "cell_type": "code",
      "execution_count": null,
      "metadata": {
        "id": "NYVbQbLJ8RUp"
      },
      "outputs": [],
      "source": []
    },
    {
      "cell_type": "markdown",
      "metadata": {
        "id": "3gqsYLRJ8RUp"
      },
      "source": [
        "2. Use `log2` from question 1 and `exp2` from the [lecture 2 notebook](https://colab.research.google.com/drive/1PAXmH_v6sQmbmAYrRK48eCfFQWLcQO3K) to implement the approximate computation of the multinomial coefficients for $m=3$:\n"
      ]
    },
    {
      "cell_type": "code",
      "execution_count": null,
      "metadata": {
        "id": "WyH4gHIS8RUq"
      },
      "outputs": [],
      "source": []
    },
    {
      "cell_type": "markdown",
      "metadata": {
        "id": "Wu4EOLkA8RUq"
      },
      "source": [
        "3. Compute $\\binom{10}{2,2,6}$, and $\\binom{150}{100, 25,25}$. Compare the running times of `multinomial coefficients` using `log2` and `exp2` vs. `math.log` and `math.exp`.\n"
      ]
    },
    {
      "cell_type": "code",
      "execution_count": null,
      "metadata": {
        "id": "oPUgV1eY8RUq"
      },
      "outputs": [],
      "source": []
    },
    {
      "cell_type": "markdown",
      "metadata": {
        "id": "2LDr0HgP8RUr"
      },
      "source": [
        "4. What are the absolute and relative error of `multinomial coefficients` for each combination of arguments — $\\binom{10}{2,2,6}$, and $\\binom{150}{100, 25,25}$?\n"
      ]
    },
    {
      "cell_type": "code",
      "execution_count": null,
      "metadata": {
        "id": "knfqQczm8RUr"
      },
      "outputs": [],
      "source": []
    },
    {
      "cell_type": "markdown",
      "metadata": {
        "id": "ghXfRc118RUr"
      },
      "source": [
        "5. For which $n$(number of Taylor series terms) the absolute difference between the *relative errors* of $\\binom{1000}{900, 50,50}$ computed for `n` and `n+1` is smaller than 0.1%? Use the approximation from Q2.2"
      ]
    },
    {
      "cell_type": "code",
      "execution_count": null,
      "metadata": {
        "id": "9oXYb6g08RUs"
      },
      "outputs": [],
      "source": []
    }
  ],
  "metadata": {
    "colab": {
      "provenance": []
    },
    "kernelspec": {
      "display_name": "cvkernel",
      "language": "python",
      "name": "cvkernel"
    },
    "language_info": {
      "codemirror_mode": {
        "name": "ipython",
        "version": 3
      },
      "file_extension": ".py",
      "mimetype": "text/x-python",
      "name": "python",
      "nbconvert_exporter": "python",
      "pygments_lexer": "ipython3",
      "version": "3.6.12"
    }
  },
  "nbformat": 4,
  "nbformat_minor": 0
}