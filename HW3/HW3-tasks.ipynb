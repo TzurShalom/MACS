{
  "nbformat": 4,
  "nbformat_minor": 0,
  "metadata": {
    "kernelspec": {
      "name": "python3",
      "display_name": "Python 3"
    },
    "colab": {
      "provenance": []
    }
  },
  "cells": [
    {
      "cell_type": "markdown",
      "metadata": {
        "id": "nuCFdN40kD3N"
      },
      "source": [
        "# Assignment 3: Eigenvectors, eigenvalues, Google PageRank\n",
        "\n",
        "## Working on the assignment, todo and not todo:\n",
        "<b><u>Todo</u></b>:<br />\n",
        "<div class=\"alert alert-success\">\n",
        "<ul><li>&#x2714; <b> Work by yourself</b> and submit your own assignment, <b>no pairing</b> to other students</li>\n",
        "<li>&#x2714; Test and save your assignment - <b>submit the last tested and saved version</b></li>\n",
        "<li>&#x2714; to <b>submit</b> the assignment, download the notebook (File → Download .ipynb in Google Colab)</li>\n",
        "<li>&#x2714; submit <b>only</b> the <b>ipynb</b> file under the name <b>hw3.ipynb</b></li>\n",
        "<li>&#x2714; It is advisable to add extra cells to check your code implementation</li></ul>\n",
        "</div>\n",
        "<b><u>Not todo</u></b>:<br />\n",
        "<div class=\"alert alert-danger\">\n",
        "<ul><li>&#x2718; do <b>NOT</b> submit an <b>empty assignment</b></li>\n",
        "<li>&#x2718; do <b>NOT submit extra files</b>, <u>unless you're asked to do so</u></li>\n",
        "<li>&#x2718; <b>Do NOT submit a .py/.txt/.rar/.zip (or any non (.ipynb) file)</b> <u>version for the notebook</u> of the assignment</li>\n",
        "<li>&#x2718; <b>do NOT change</b> the notebook file name</li></ul>\n",
        "</div>"
      ]
    },
    {
      "cell_type": "code",
      "metadata": {
        "id": "EbQdRNfPkD3N"
      },
      "source": [
        "import numpy as np\n",
        "import numpy.linalg as la\n",
        "import networkx as nx\n",
        "import matplotlib.pyplot as plt"
      ],
      "execution_count": null,
      "outputs": []
    },
    {
      "cell_type": "markdown",
      "metadata": {
        "id": "0NFDA3uFHcf_"
      },
      "source": [
        "## Question 1: eigenvalues and eigenvectors\n",
        "\n",
        "Matrix  $M=\\pmatrix{-3 & -2 & 7 \\\\ 1 &  6 &  1 \\\\ 3 & 6 & -1}$ is given.\n",
        "\n",
        "\n",
        "Q1.1 Find eigenvalues and eigenvectors of the matrix.\n",
        "\n",
        "<pre>\n",
        "Implement the function eigM() that returns a tuple (Eigenvalues, Eigenvectors)\n",
        "------------\n",
        "Input parameters:\n",
        "-nothing-\n",
        "------------\n",
        "return value:\n",
        "- Eigenvalues - list of the eigenvalues of the matrix M\n",
        "- Eigenvectors - list of the eigenvectors of the matrix M\n",
        "------------\n",
        "</pre>\n",
        "\n"
      ]
    },
    {
      "cell_type": "code",
      "metadata": {
        "id": "QClcZNwbNVJ9"
      },
      "source": [
        "def eigM():\n",
        "  pass\n",
        "\n",
        ""
      ],
      "execution_count": null,
      "outputs": []
    },
    {
      "cell_type": "code",
      "source": [
        "# --------------------------- RUN THIS TEST CODE CELL -------------------------------------\n",
        "# Q1.1 --- Test your implementation:\n",
        "# ---------------------------\n",
        "print (\"Test - Testing the implementation of the 'eigM' function..\\n \")\n",
        "title = \"Eigenvalues and eigenvectors of the given matrix:\"\n",
        "l,v = eigM()\n",
        "print(f\"\\n {title} \")\n",
        "print(\"=\"*(len(title)+2))\n",
        "print(f\"Eigenvalues: {l}\")\n",
        "print(f\"Eigenvectors:\\n{v}\")\n",
        "print (\"\\n\\n there will be hidden tests ... \")"
      ],
      "metadata": {
        "id": "PURnMdma9__5"
      },
      "execution_count": null,
      "outputs": []
    },
    {
      "cell_type": "markdown",
      "metadata": {
        "id": "5yu2V2_BPExv"
      },
      "source": [
        "Q1.2 The eigenvectors are three-dimensional. Plot projections of eigenvectors on each of 2-dimensional spaces. Hint: a three-dimensional vector $(x_1, x_2, x_3)$ has 3  two-dimensional projections: $(x_1, x_2)$, $(x_1, x_3)$, $(x_2, x_3)$. \\\\\n",
        "An example for one of the three plotting will be:\n",
        "\n",
        "![image.png](data:image/png;base64,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)"
      ]
    },
    {
      "cell_type": "code",
      "metadata": {
        "id": "j-Qa1HfBQMZe"
      },
      "source": [
        "def vectorsPlot (vec,x ,y): # You can use this helper function\n",
        "  plt.figure(figsize=(4, 4))\n",
        "  plt.xlim((-1.1, 1.1))\n",
        "  plt.ylim((-1.1, 1.1))\n",
        "  plt.grid()\n",
        "  for vector in vec:\n",
        "    plt.plot([0,vector[0, x]], [0,vector[0, y]], '-o')\n",
        "  plt.show()\n",
        "\n",
        "# Write your code here (you dont need to define a function)\n"
      ],
      "execution_count": null,
      "outputs": []
    },
    {
      "cell_type": "markdown",
      "metadata": {
        "id": "_tE7t9JNOF2O"
      },
      "source": [
        "Q1.3 Find a matrix with the same eigenvectors but with eigenvalues of half the value of M's eigenvalues.\n",
        "\n",
        "<pre>\n",
        "Implement the function halfEigenM() that returns the requested Matrix above\n",
        "------------\n",
        "Input parameters:\n",
        "-nothing-\n",
        "------------\n",
        "return value:\n",
        "- A - requested Matrix\n",
        "------------\n",
        "</pre>"
      ]
    },
    {
      "cell_type": "code",
      "metadata": {
        "id": "xhP4nVmCOUfO"
      },
      "source": [
        "def halfEigenM():\n",
        "    pass"
      ],
      "execution_count": null,
      "outputs": []
    },
    {
      "cell_type": "code",
      "source": [
        "# --------------------------- RUN THIS TEST CODE CELL -------------------------------------\n",
        "# Q1.3 --- Test your implementation:\n",
        "# ---------------------------\n",
        "print (\"Test - Testing the implementation of the 'halfEigenM' function..\\n \")\n",
        "print(f\"new Matrix:\\n {halfEigenM()}\")\n",
        "print (\"\\n\\n there will be hidden tests ... \")"
      ],
      "metadata": {
        "id": "_2bT1DjDAcLs"
      },
      "execution_count": null,
      "outputs": []
    },
    {
      "cell_type": "markdown",
      "metadata": {
        "id": "lEGxBQrzOeGR"
      },
      "source": [
        "Q1.4. Find a matrix with the same eigenvalues as M from Q1.1 but different eigenvectors.\n",
        "\n",
        "<pre>\n",
        "compute diffVectorsM() that returns the requested Matrix above\n",
        "------------\n",
        "Input parameters:\n",
        "-nothing-\n",
        "------------\n",
        "return value:\n",
        "- M - requested Matrix\n",
        "------------\n",
        "</pre>"
      ]
    },
    {
      "cell_type": "code",
      "metadata": {
        "id": "f0dCpFrVOszu"
      },
      "source": [
        "def diffVectorsM():\n",
        "   pass\n",
        ""
      ],
      "execution_count": null,
      "outputs": []
    },
    {
      "cell_type": "code",
      "source": [
        "# --------------------------- RUN THIS TEST CODE CELL -------------------------------------\n",
        "# Q1.4 --- Test your implementation:\n",
        "# ---------------------------\n",
        "print (\"Test - Testing the implementation of the 'diffVectorsM' function..\\n \")\n",
        "print(f\"new Matrix:\\n {diffVectorsM()}\")\n",
        "print (\"\\n\\n there will be hidden tests ... \")"
      ],
      "metadata": {
        "id": "ecVs6-nkBOEy"
      },
      "execution_count": null,
      "outputs": []
    },
    {
      "cell_type": "markdown",
      "metadata": {
        "id": "XldFuwZtOquY"
      },
      "source": [
        "Q1.5 Write a function that given a list of eigenvalues, returns a matrix with those eigenvalues. Example:\n",
        "\n",
        "```\n",
        ">> eigenvalues_to_matrix([0, 2])\n",
        "[[1, -1],\n",
        " [-1, 1]]\n",
        "```\n",
        "\n",
        "<pre>\n",
        "Implement the function eigenvalues_to_matrix(eigenvalues) satisfying the requirments above\n",
        "------------\n",
        "Input parameters:\n",
        "- eigenvalues - list of eigenvalues\n",
        "------------\n",
        "return value:\n",
        "- M - requested Matrix\n",
        "------------\n",
        "</pre>"
      ]
    },
    {
      "cell_type": "code",
      "metadata": {
        "id": "fplJaieiOqJW"
      },
      "source": [
        "def eigenvalues_to_matrix(eig_vals):\n",
        "   pass\n"
      ],
      "execution_count": null,
      "outputs": []
    },
    {
      "cell_type": "code",
      "source": [
        "# --------------------------- RUN THIS TEST CODE CELL -------------------------------------\n",
        "# Q1.5 --- Test your implementation:\n",
        "# ---------------------------\n",
        "print (\"Test - Testing the implementation of the 'eigenvalues_to_matrix' function..\\n \")\n",
        "print(f\"new Matrix:\\n {eigenvalues_to_matrix([8, 7, 6])}\")\n",
        "print (\"\\n\\n there will be hidden tests ... \")"
      ],
      "metadata": {
        "id": "_Lc6GC0sE0EA"
      },
      "execution_count": null,
      "outputs": []
    },
    {
      "cell_type": "markdown",
      "metadata": {
        "id": "AD39dQ8TkD3O"
      },
      "source": [
        "## Question 2: Google PageRank\n",
        "\n",
        "A directed graph $G$ is given:\n",
        "\n",
        "![image.png](data:image/png;base64,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)"
      ]
    },
    {
      "cell_type": "markdown",
      "metadata": {
        "id": "4Jw8GfIWkD3O"
      },
      "source": [
        "Q2.1  Write adjacency matrix $A$ for $G$.\n",
        "<pre>\n",
        "Implement adj_matrix() according to the image above\n",
        "------------\n",
        "Input parameters:\n",
        "- nothing -\n",
        "------------\n",
        "return value:\n",
        "- M - requested Matrix\n",
        "------------\n",
        "</pre>"
      ]
    },
    {
      "cell_type": "code",
      "metadata": {
        "id": "jdP6TMmkZuxE"
      },
      "source": [
        "def adj_matrix():\n",
        "   pass\n",
        "\n",
        ""
      ],
      "execution_count": null,
      "outputs": []
    },
    {
      "cell_type": "code",
      "source": [
        "# --------------------------- RUN THIS TEST CODE CELL -------------------------------------\n",
        "# Q2.1 --- Test your implementation:\n",
        "# ---------------------------\n",
        "print (\"Test - Testing the implementation of the 'adj_matrix' function..\\n \")\n",
        "print(f\"the adjacency matrix:\\n {np.array(adj_matrix())}\")\n",
        "print (\"\\n\\n there will be hidden tests ... \")"
      ],
      "metadata": {
        "id": "ZApuY-r_97-A"
      },
      "execution_count": null,
      "outputs": []
    },
    {
      "cell_type": "markdown",
      "metadata": {
        "id": "kctPkpO6ZwBa"
      },
      "source": [
        "Q2.2  Compute Google PageRank of all nodes in $G$.\n",
        "<br><b>Use the iterative solution</b>\n",
        "\n",
        "<pre>\n",
        "Implement PG_rank_iter(M) that returns a vector of pagerank of all nodes of Matrix (for any matrix)\n",
        "------------\n",
        "Input parameters:\n",
        "- M - Matrix to apply pagerank to\n",
        "- d - Damping factor (default value = 0.85 as seen in class)\n",
        "------------\n",
        "return value:\n",
        "- pagerank_vector - pagerank vector of all the nodes\n",
        "------------\n",
        "</pre>\n"
      ]
    },
    {
      "cell_type": "code",
      "metadata": {
        "id": "dIHWtHFNswcB"
      },
      "source": [
        "def PG_rank_iter(M,d=0.85):\n",
        "    pass"
      ],
      "execution_count": null,
      "outputs": []
    },
    {
      "cell_type": "code",
      "source": [
        "# --------------------------- RUN THIS TEST CODE CELL -------------------------------------\n",
        "# Q2.2 --- Test your implementation:\n",
        "# ---------------------------\n",
        "print (\"Test - Testing the implementation of the 'PG_rank_iter' function..\\n \")\n",
        "M = adj_matrix()\n",
        "va = PG_rank_iter(M)\n",
        "for i in range(len(va)):\n",
        "    print(\"Node no.\",str(i+1),\", google pagerank=\",va[i])\n",
        "print (\"\\n\\n there will be hidden tests ... \")"
      ],
      "metadata": {
        "id": "4PBLxZIx_rgc"
      },
      "execution_count": null,
      "outputs": []
    },
    {
      "cell_type": "markdown",
      "metadata": {
        "id": "eZsNGlMrsw3I"
      },
      "source": [
        "Q2.3  Change the graph edges (in the adjacency matrix of Q2.1) such that node 1 has the highest rank.\n",
        "<br><b>Use the algebraic solution</b>\n",
        "\n",
        "<pre>\n",
        "Implement n1_highest_Rank() that returns a vector of pagerank of all nodes of the Matrix after the change\n",
        "------------\n",
        "Input parameters:\n",
        "- Nothing -\n",
        "------------\n",
        "return value:\n",
        "- pagerank_vector - pagerank vector of all the nodes\n",
        "------------\n",
        "</pre>"
      ]
    },
    {
      "cell_type": "code",
      "metadata": {
        "id": "1LB5o6pYaHj5"
      },
      "source": [
        "def n1_highest_Rank():\n",
        "    pass"
      ],
      "execution_count": null,
      "outputs": []
    },
    {
      "cell_type": "code",
      "source": [
        "# --------------------------- RUN THIS TEST CODE CELL -------------------------------------\n",
        "# Q2.3 --- Test your implementation:\n",
        "# ---------------------------\n",
        "print (\"Test - Testing the implementation of the 'n1_highest_Rank' function..\\n \")\n",
        "va = n1_highest_Rank()\n",
        "for i in range(len(va)):\n",
        "    print(\"Node no.\",str(i+1),\", google pagerank=\",va[i])\n",
        "print (\"\\n\\n there will be hidden tests ... \")\n"
      ],
      "metadata": {
        "id": "WVW1BGr8BxVT"
      },
      "execution_count": null,
      "outputs": []
    },
    {
      "cell_type": "markdown",
      "metadata": {
        "id": "YAqgNM2QaInf"
      },
      "source": [
        "Q2.4 Write a function that inverts the directions of all edges of a graph, given its adjacency matrix M\n",
        "\n",
        "<pre>\n",
        "Write invert_graph(M) that returns the adjacency matrix of the inverted graph  \n",
        "------------\n",
        "Input parameters:\n",
        "- M - Adjacency matrix of some graph\n",
        "return value:\n",
        "- M_inv - Adjacency matrix of the inverted graph\n",
        "------------\n",
        "</pre>"
      ]
    },
    {
      "cell_type": "code",
      "metadata": {
        "id": "vlrh1lfTeTaH"
      },
      "source": [
        "def invert_graph(M):\n",
        "    pass"
      ],
      "execution_count": null,
      "outputs": []
    },
    {
      "cell_type": "code",
      "source": [
        "# --------------------------- RUN THIS TEST CODE CELL -------------------------------------\n",
        "# Q2.4 --- Test your implementation:\n",
        "# ---------------------------\n",
        "print (\"Test - Testing the implementation of the 'invert_graph' function..\\n \")\n",
        "print(f\"the inverted graph adjacency matrix is :\\n {invert_graph(np.array(adj_matrix()))}\")\n",
        "print (\"\\n\\n there will be hidden tests ... \")"
      ],
      "metadata": {
        "id": "AJniAQyoCFRJ"
      },
      "execution_count": null,
      "outputs": []
    },
    {
      "cell_type": "markdown",
      "metadata": {
        "id": "iLwvqdvutAYF"
      },
      "source": [
        "Q2.5 How many iterations of iterative PageRank algorithm are required to approximate the exact (algebraic) PageRank algorithm with less than 0.025% error?\n",
        "Hint: use L1 norm `la.norm(vector, 1)` to determine the relative error between v_alg and v_iter.\n",
        "\\begin{align}\n",
        "      \\text{relative error = }\\frac{||v_{alg} - v_{iter}||}{||v_{alg}||}\n",
        "    \\end{align}\n",
        "For reading more about norms: https://en.wikipedia.org/wiki/Norm_(mathematics)\n",
        "\n",
        "<pre>\n",
        "Write PageRank_iterative_by_percent(M, precent, d) that returns the number of iterations need for less than 0.025% error\n",
        "------------\n",
        "Input parameters:\n",
        "- M -   numpy array\n",
        "        adjacency matrix\n",
        "        \n",
        "- percent -   float\n",
        "        error by percentages\n",
        "      \n",
        "- d -   float, optional\n",
        "        damping factor, by default 0.85\n",
        "\n",
        "\n",
        "return value:\n",
        "- answer - int\n",
        "            number of iterations to meet the desired percentages\n",
        "------------\n",
        "</pre>"
      ]
    },
    {
      "cell_type": "code",
      "metadata": {
        "id": "s9YfDlUVtOQb"
      },
      "source": [
        "def PageRank_iterative_by_percent(M,percent,d=0.85):\n",
        "    pass\n",
        "\n"
      ],
      "execution_count": null,
      "outputs": []
    },
    {
      "cell_type": "code",
      "source": [
        "# --------------------------- RUN THIS TEST CODE CELL -------------------------------------\n",
        "# Q2.5 --- Test your implementation:\n",
        "# ---------------------------\n",
        "print (\"Test - Testing the implementation of the 'PageRank_iterative_by_percent' function..\\n \")\n",
        "percentage = 0.025 # 0.025%\n",
        "print(f\"the itertive PageRank algorithm need to run :   {PageRank_iterative_by_percent(adj_matrix(),percentage)} iterartions\")\n",
        "print (\"\\n\\n there will be hidden tests ... \")"
      ],
      "metadata": {
        "id": "uodFU1v8Gf4u"
      },
      "execution_count": null,
      "outputs": []
    }
  ]
}